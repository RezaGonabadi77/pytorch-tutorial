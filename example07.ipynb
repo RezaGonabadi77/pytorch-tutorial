{
 "cells": [
  {
   "cell_type": "code",
   "execution_count": 1,
   "metadata": {},
   "outputs": [],
   "source": [
    "import torch\n",
    "from torch.utils.data import Dataset\n",
    "from torchvision.transforms import ToTensor\n",
    "import pandas as pd\n",
    "import numpy as np\n",
    "import glob"
   ]
  },
  {
   "cell_type": "code",
   "execution_count": 22,
   "metadata": {},
   "outputs": [],
   "source": [
    "class CustomDataset(Dataset):\n",
    "    def __init__(self, pathname, tranform = None, target_transform = None):\n",
    "        self.pathname = glob.glob(pathname=pathname + '\\*\\*.txt')\n",
    "        self.class_map = {'S': 0, 'Z' : 1}\n",
    "        self.transform = tranform\n",
    "        self.target_transform = target_transform\n",
    "        \n",
    "    def __len__(self):\n",
    "        return len(self.pathname)\n",
    "    \n",
    "    def __getitem__(self,indx):\n",
    "        df = pd.read_csv(self.pathname[indx], header= None)\n",
    "        data = df.iloc[:,0].to_numpy()\n",
    "        chr = str(self.pathname[indx]).split('\\\\')[-1][0]\n",
    "\n",
    "        label = self.class_map[chr]\n",
    "        label = np.array(label)\n",
    "\n",
    "        if self.transform:\n",
    "            date = self.transform(data)\n",
    "        if self.target_transform:\n",
    "            label = self.target_transform(label)\n",
    "\n",
    "        return data, label\n",
    "\n",
    "class ToTensor:\n",
    "    def __call__(self, sample):\n",
    "        sample = torch.from_numpy(sample).to(dtype=torch.float32)\n",
    "        return sample"
   ]
  },
  {
   "cell_type": "code",
   "execution_count": 23,
   "metadata": {},
   "outputs": [],
   "source": [
    "pathname = r'EEG'\n",
    "ds = CustomDataset(pathname=pathname)"
   ]
  },
  {
   "cell_type": "code",
   "execution_count": 24,
   "metadata": {},
   "outputs": [],
   "source": [
    "data, label = ds[-1]"
   ]
  },
  {
   "cell_type": "code",
   "execution_count": 25,
   "metadata": {},
   "outputs": [],
   "source": [
    "x = ToTensor()\n",
    "data = x(data)"
   ]
  },
  {
   "cell_type": "code",
   "execution_count": null,
   "metadata": {},
   "outputs": [],
   "source": []
  }
 ],
 "metadata": {
  "kernelspec": {
   "display_name": "Python 3",
   "language": "python",
   "name": "python3"
  },
  "language_info": {
   "codemirror_mode": {
    "name": "ipython",
    "version": 3
   },
   "file_extension": ".py",
   "mimetype": "text/x-python",
   "name": "python",
   "nbconvert_exporter": "python",
   "pygments_lexer": "ipython3",
   "version": "3.11.0"
  }
 },
 "nbformat": 4,
 "nbformat_minor": 2
}
