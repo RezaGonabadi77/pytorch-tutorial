{
 "cells": [
  {
   "cell_type": "code",
   "execution_count": 4,
   "metadata": {},
   "outputs": [],
   "source": [
    "import torch"
   ]
  },
  {
   "cell_type": "code",
   "execution_count": 6,
   "metadata": {},
   "outputs": [
    {
     "name": "stdout",
     "output_type": "stream",
     "text": [
      "tensor([[[4.1855, 3.9086, 3.0418, 2.9450, 2.2175],\n",
      "         [2.9989, 1.0791, 2.0601, 2.8603, 2.6973],\n",
      "         [3.5623, 1.6531, 1.1320, 1.1530, 3.4365]],\n",
      "\n",
      "        [[3.9606, 2.5906, 3.7646, 0.1959, 0.6207],\n",
      "         [3.5155, 2.7587, 1.4519, 0.0115, 1.5869],\n",
      "         [0.4452, 2.8573, 3.7101, 4.7041, 4.5867]]])\n"
     ]
    }
   ],
   "source": [
    "t = torch.rand(2,3,5)*5\n",
    "print(t)"
   ]
  },
  {
   "cell_type": "code",
   "execution_count": 12,
   "metadata": {},
   "outputs": [
    {
     "name": "stdout",
     "output_type": "stream",
     "text": [
      "tensor([[[4., 3., 3., 2., 2.],\n",
      "         [2., 1., 2., 2., 2.],\n",
      "         [3., 1., 1., 1., 3.]],\n",
      "\n",
      "        [[3., 2., 3., 0., 0.],\n",
      "         [3., 2., 1., 0., 1.],\n",
      "         [0., 2., 3., 4., 4.]]])\n"
     ]
    }
   ],
   "source": [
    "t1 = torch.floor(t)\n",
    "print(t1)"
   ]
  },
  {
   "cell_type": "code",
   "execution_count": 13,
   "metadata": {},
   "outputs": [
    {
     "name": "stdout",
     "output_type": "stream",
     "text": [
      "tensor([[[4., 3., 3., 2., 2.],\n",
      "         [2., 1., 2., 2., 2.],\n",
      "         [3., 1., 1., 1., 3.]],\n",
      "\n",
      "        [[3., 2., 3., 0., 0.],\n",
      "         [3., 2., 1., 0., 1.],\n",
      "         [0., 2., 3., 4., 4.]]])\n"
     ]
    }
   ],
   "source": [
    "t2 = torch.fix(t)\n",
    "print(t2)"
   ]
  },
  {
   "cell_type": "code",
   "execution_count": 14,
   "metadata": {},
   "outputs": [
    {
     "name": "stdout",
     "output_type": "stream",
     "text": [
      "tensor([[[4., 4., 3., 3., 2.],\n",
      "         [3., 1., 2., 3., 3.],\n",
      "         [4., 2., 1., 1., 3.]],\n",
      "\n",
      "        [[4., 3., 4., 0., 1.],\n",
      "         [4., 3., 1., 0., 2.],\n",
      "         [0., 3., 4., 5., 5.]]])\n"
     ]
    }
   ],
   "source": [
    "t3 = torch.round(t)\n",
    "print(t3)"
   ]
  },
  {
   "cell_type": "code",
   "execution_count": 15,
   "metadata": {},
   "outputs": [
    {
     "name": "stdout",
     "output_type": "stream",
     "text": [
      "tensor([[[5., 4., 4., 3., 3.],\n",
      "         [3., 2., 3., 3., 3.],\n",
      "         [4., 2., 2., 2., 4.]],\n",
      "\n",
      "        [[4., 3., 4., 1., 1.],\n",
      "         [4., 3., 2., 1., 2.],\n",
      "         [1., 3., 4., 5., 5.]]])\n"
     ]
    }
   ],
   "source": [
    "t4 = torch.ceil(t)\n",
    "print(t4)"
   ]
  },
  {
   "cell_type": "code",
   "execution_count": null,
   "metadata": {},
   "outputs": [],
   "source": []
  }
 ],
 "metadata": {
  "kernelspec": {
   "display_name": "Python 3",
   "language": "python",
   "name": "python3"
  },
  "language_info": {
   "codemirror_mode": {
    "name": "ipython",
    "version": 3
   },
   "file_extension": ".py",
   "mimetype": "text/x-python",
   "name": "python",
   "nbconvert_exporter": "python",
   "pygments_lexer": "ipython3",
   "version": "3.11.0"
  }
 },
 "nbformat": 4,
 "nbformat_minor": 2
}
