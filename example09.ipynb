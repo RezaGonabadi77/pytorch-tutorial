{
 "cells": [
  {
   "cell_type": "code",
   "execution_count": 1,
   "metadata": {},
   "outputs": [],
   "source": [
    "import torch\n",
    "from torch.utils.data import Dataset\n",
    "from torchvision.transforms import ToTensor\n",
    "import pandas as pd\n",
    "import numpy as np\n",
    "import glob"
   ]
  },
  {
   "cell_type": "code",
   "execution_count": 2,
   "metadata": {},
   "outputs": [],
   "source": [
    "class CustomDataset(Dataset):\n",
    "    def __init__(self,pathname,transform=None,target_transform=None):\n",
    "        df= pd.read_excel(pathname)\n",
    "        self.data= df.iloc[:,:-1].to_numpy()\n",
    "        self.target= df.iloc[:,-1].to_numpy()\n",
    "        self.transform= transform\n",
    "        self.target_transform= target_transform\n",
    "        \n",
    "    def __len__(self):\n",
    "        return  len(self.target)\n",
    "    \n",
    "    def __getitem__(self,indx):\n",
    "        sample= self.data[indx]\n",
    "        label= self.target[indx]\n",
    "        if self.transform:\n",
    "            sample= self.transform(sample)\n",
    "        if self.target_transform:\n",
    "            label= self.target_transform(label)   \n",
    "        return sample,label\n",
    "    \n",
    "class ToTensor:\n",
    "    def __call__(self, sample):\n",
    "        sample = torch.from_numpy(sample).type(torch.float32)\n",
    "        return sample\n",
    "\n",
    "class Lambda:\n",
    "    def __call__(self, y):\n",
    "        y = torch.zeros(3).scatter(dim = 0, index = torch.tensor(y-1), value = 1).type(torch.float32)\n",
    "        return y"
   ]
  },
  {
   "cell_type": "code",
   "execution_count": 3,
   "metadata": {},
   "outputs": [],
   "source": [
    "path = 'iris.xlsx'\n",
    "transfor = ToTensor()\n",
    "target_transform = Lambda()\n",
    "ds = CustomDataset(pathname=path, transform= transfor, target_transform= target_transform)"
   ]
  },
  {
   "cell_type": "code",
   "execution_count": 6,
   "metadata": {},
   "outputs": [],
   "source": [
    "sample , label = ds[2]"
   ]
  },
  {
   "cell_type": "code",
   "execution_count": null,
   "metadata": {},
   "outputs": [],
   "source": []
  },
  {
   "cell_type": "code",
   "execution_count": null,
   "metadata": {},
   "outputs": [],
   "source": []
  }
 ],
 "metadata": {
  "kernelspec": {
   "display_name": "Python 3",
   "language": "python",
   "name": "python3"
  },
  "language_info": {
   "codemirror_mode": {
    "name": "ipython",
    "version": 3
   },
   "file_extension": ".py",
   "mimetype": "text/x-python",
   "name": "python",
   "nbconvert_exporter": "python",
   "pygments_lexer": "ipython3",
   "version": "3.11.0"
  }
 },
 "nbformat": 4,
 "nbformat_minor": 2
}
