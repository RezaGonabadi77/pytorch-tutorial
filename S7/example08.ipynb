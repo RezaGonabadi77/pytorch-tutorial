{
 "cells": [
  {
   "cell_type": "code",
   "execution_count": 11,
   "metadata": {},
   "outputs": [],
   "source": [
    "import torch\n",
    "from torch.utils.data import Dataset\n",
    "from torchvision.transforms import Compose\n",
    "\n",
    "import glob\n",
    "from typing import Any\n",
    "import pandas as pd\n",
    "\n"
   ]
  },
  {
   "cell_type": "code",
   "execution_count": 14,
   "metadata": {},
   "outputs": [],
   "source": [
    "class CustomDataset(Dataset):\n",
    "    def __init__(self,pathname,transform=None,target_transform=None):\n",
    "        self.file_names= glob.glob(pathname+ '\\*\\*.txt')\n",
    "        self.class_map= {'S':0,'Z':1}\n",
    "        self.transform= transform\n",
    "        self.target_transform= target_transform\n",
    "        \n",
    "    def __len__(self):\n",
    "        return len(self.file_names)\n",
    "    \n",
    "    def __getitem__(self,indx):\n",
    "        filename= self.file_names[indx]\n",
    "        df= pd.read_csv(filename,header=None)\n",
    "        chr= filename.split('\\\\')[-1][0]\n",
    "        \n",
    "        sample= df.iloc[:,0].to_numpy()\n",
    "        label= self.class_map[chr]\n",
    "        if self.transform:\n",
    "            sample= self.transform(sample)\n",
    "        if self.target_transform:\n",
    "            label= self.target_transform(label)   \n",
    "        return sample,label\n",
    "\n",
    "class ToTensor:\n",
    "    def __call__(self, sample):\n",
    "        sample = torch.from_numpy(sample).type(torch.float32)\n",
    "        return sample\n",
    "    \n",
    "class Normalize:\n",
    "    def __init__(self, mu, std):\n",
    "        self.mu = mu\n",
    "        self.std = std\n",
    "    def __call__(self,sample):\n",
    "        sample = (sample-self.mu) / self.std\n",
    "        return sample"
   ]
  },
  {
   "cell_type": "code",
   "execution_count": 17,
   "metadata": {},
   "outputs": [],
   "source": [
    "pathname='EEG'\n",
    "to_tensor = ToTensor()\n",
    "to_normalize = Normalize(1,100)\n",
    "transfrom= Compose([to_tensor,to_normalize])\n",
    "ds= CustomDataset(pathname,transfrom)\n",
    "\n",
    "sample,label=ds[2]"
   ]
  },
  {
   "cell_type": "code",
   "execution_count": null,
   "metadata": {},
   "outputs": [],
   "source": []
  }
 ],
 "metadata": {
  "kernelspec": {
   "display_name": "Python 3",
   "language": "python",
   "name": "python3"
  },
  "language_info": {
   "codemirror_mode": {
    "name": "ipython",
    "version": 3
   },
   "file_extension": ".py",
   "mimetype": "text/x-python",
   "name": "python",
   "nbconvert_exporter": "python",
   "pygments_lexer": "ipython3",
   "version": "3.11.0"
  }
 },
 "nbformat": 4,
 "nbformat_minor": 2
}
