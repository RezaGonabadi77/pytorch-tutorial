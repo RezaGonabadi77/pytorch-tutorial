{
 "cells": [
  {
   "cell_type": "code",
   "execution_count": 89,
   "metadata": {},
   "outputs": [],
   "source": [
    "import torch \n",
    "import glob\n",
    "import pandas as pd\n",
    "import numpy as np"
   ]
  },
  {
   "cell_type": "code",
   "execution_count": 90,
   "metadata": {},
   "outputs": [],
   "source": [
    "class BonnEEG():\n",
    "    def __init__(self, pathname : str):\n",
    "        self.file_name = glob.glob(pathname= pathname + '\\*.txt')\n",
    "        self.class_map = {'S' : 0, 'Z' : 1}\n",
    "    def __len__(self):\n",
    "        return len(self.file_name)\n",
    "    def __getitem__(self,indx):\n",
    "        data = pd.read_csv(self.file_name[indx], header=None)\n",
    "        data = np.array(data)\n",
    "        label = np.array(self.class_map[self.file_name[indx].split('\\\\')[-1][0]])\n",
    "        return data , label"
   ]
  },
  {
   "cell_type": "code",
   "execution_count": 91,
   "metadata": {},
   "outputs": [],
   "source": [
    "ds = BonnEEG(pathname= r'BonnEEG')"
   ]
  },
  {
   "cell_type": "code",
   "execution_count": 92,
   "metadata": {},
   "outputs": [
    {
     "data": {
      "text/plain": [
       "<__main__.BonnEEG at 0x14b900cb010>"
      ]
     },
     "execution_count": 92,
     "metadata": {},
     "output_type": "execute_result"
    }
   ],
   "source": [
    "ds"
   ]
  },
  {
   "cell_type": "code",
   "execution_count": 98,
   "metadata": {},
   "outputs": [],
   "source": [
    "data , label = ds[122]"
   ]
  }
 ],
 "metadata": {
  "kernelspec": {
   "display_name": "Python 3",
   "language": "python",
   "name": "python3"
  },
  "language_info": {
   "codemirror_mode": {
    "name": "ipython",
    "version": 3
   },
   "file_extension": ".py",
   "mimetype": "text/x-python",
   "name": "python",
   "nbconvert_exporter": "python",
   "pygments_lexer": "ipython3",
   "version": "3.11.0"
  }
 },
 "nbformat": 4,
 "nbformat_minor": 2
}
